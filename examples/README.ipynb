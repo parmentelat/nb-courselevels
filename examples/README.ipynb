{
 "cells": [
  {
   "cell_type": "markdown",
   "metadata": {
    "tags": []
   },
   "source": [
    "# Using colors to provide 3 levels for your course contents"
   ]
  },
  {
   "cell_type": "markdown",
   "metadata": {
    "tags": []
   },
   "source": [
    "this extension provides a - hopefully standard - way to tag your cells to indicate a level among these 3\n",
    "\n",
    "\n",
    "* basic\n",
    "* intermediate\n",
    "* advanced"
   ]
  },
  {
   "cell_type": "markdown",
   "metadata": {
    "tags": []
   },
   "source": [
    "it also provides a rendering scheme that maps these levels onto colors\n",
    "* green\n",
    "* blue\n",
    "* red \n",
    "respectively (same as the ski tracks in Europe)"
   ]
  },
  {
   "cell_type": "markdown",
   "metadata": {
    "tags": []
   },
   "source": [
    "## authoring"
   ]
  },
  {
   "cell_type": "markdown",
   "metadata": {
    "tags": []
   },
   "source": [
    "for authoring you can use either\n",
    "\n",
    "* one of the 3 buttons in the menubar (one finger = basic, 2 fingers = intermediate, 4 fingers = advanced)\n",
    "* or one of the 3 keyboard shortcuts (control-x = basic, control-y = intermediate, control-z = advanced)"
   ]
  },
  {
   "cell_type": "markdown",
   "metadata": {
    "tags": []
   },
   "source": [
    "## selecting"
   ]
  },
  {
   "cell_type": "markdown",
   "metadata": {
    "tags": []
   },
   "source": [
    "this extension slightly changes the way multiple selection is rendered, because it's very easy to get confused between the blue background used for intermediate cells and the blue background used for multiply-selected cells."
   ]
  },
  {
   "cell_type": "markdown",
   "metadata": {
    "tags": []
   },
   "source": [
    "## styles"
   ]
  },
  {
   "cell_type": "markdown",
   "metadata": {
    "tags": []
   },
   "source": [
    "several styles can be considered :\n",
    "\n",
    "* either you paint everything - but that's quickly a lot of colors\n",
    "* or you just paint the headers and in that case the green marking comes in handy so you can make it explicit that a, say, intermediate section is over, and that the course comes back to the basic level\n",
    "\n",
    "this is illustrated below, you'll see what I mean..."
   ]
  },
  {
   "cell_type": "markdown",
   "metadata": {
    "tags": []
   },
   "source": [
    "## configuring\n",
    "\n",
    "using the nbextension configurator you can disable the menubar buttons and keyboard shortcuts\n",
    "\n",
    "as of this early release (0.2), colors are not yet configurable"
   ]
  },
  {
   "cell_type": "markdown",
   "metadata": {
    "tags": []
   },
   "source": [
    "# a section with everything painted"
   ]
  },
  {
   "cell_type": "markdown",
   "metadata": {
    "tags": [
     "level_basic"
    ]
   },
   "source": [
    "## this section is basic"
   ]
  },
  {
   "cell_type": "markdown",
   "metadata": {
    "tags": [
     "level_basic",
     "framed_cell"
    ]
   },
   "source": [
    "Sit neque adipisci voluptatem etincidunt. Labore quiquia modi quiquia. Numquam voluptatem sed dolor voluptatem tempora sit quiquia. Quiquia dolore quisquam quaerat eius. Dolorem dolor consectetur eius. Dolorem quiquia sed modi neque dolore eius aliquam. Quisquam velit ipsum sit numquam consectetur dolorem adipisci. Non dolor dolore quaerat numquam. Dolor aliquam adipisci consectetur ut aliquam quisquam est. Dolor adipisci eius amet tempora."
   ]
  },
  {
   "cell_type": "code",
   "execution_count": null,
   "metadata": {
    "tags": [
     "level_basic"
    ]
   },
   "outputs": [],
   "source": [
    "# Est neque dolor sed dolore adipisci. Quisquam consectetur aliquam adipisci dolorem porro.\n",
    "\n",
    "print(\"hello world\")"
   ]
  },
  {
   "cell_type": "markdown",
   "metadata": {
    "tags": [
     "level_basic"
    ]
   },
   "source": [
    "Etincidunt etincidunt est dolor velit. Sit aliquam dolorem neque. Voluptatem quiquia voluptatem quisquam etincidunt numquam est. Sit modi dolorem aliquam magnam. Velit non quisquam amet voluptatem quisquam magnam. Amet est magnam non non aliquam quisquam tempora. Sit ipsum dolor aliquam etincidunt est dolorem. Ipsum quiquia quiquia dolorem non magnam dolorem tempora. Porro amet modi etincidunt. Sed dolorem modi ut dolor ut est sit."
   ]
  },
  {
   "cell_type": "markdown",
   "metadata": {
    "tags": [
     "level_intermediate"
    ]
   },
   "source": [
    "## this section is intemediate"
   ]
  },
  {
   "cell_type": "markdown",
   "metadata": {
    "tags": [
     "level_intermediate"
    ]
   },
   "source": [
    "Sit neque adipisci voluptatem etincidunt. Labore quiquia modi quiquia. Numquam voluptatem sed dolor voluptatem tempora sit quiquia. Quiquia dolore quisquam quaerat eius. Dolorem dolor consectetur eius. Dolorem quiquia sed modi neque dolore eius aliquam. Quisquam velit ipsum sit numquam consectetur dolorem adipisci. Non dolor dolore quaerat numquam. Dolor aliquam adipisci consectetur ut aliquam quisquam est. Dolor adipisci eius amet tempora."
   ]
  },
  {
   "cell_type": "code",
   "execution_count": null,
   "metadata": {
    "tags": [
     "level_intermediate"
    ]
   },
   "outputs": [],
   "source": [
    "# Est neque dolor sed dolore adipisci. Quisquam consectetur aliquam adipisci dolorem porro.\n",
    "\n",
    "print(\"hello world\")"
   ]
  },
  {
   "cell_type": "markdown",
   "metadata": {
    "tags": [
     "level_intermediate"
    ]
   },
   "source": [
    "Etincidunt etincidunt est dolor velit. Sit aliquam dolorem neque. Voluptatem quiquia voluptatem quisquam etincidunt numquam est. Sit modi dolorem aliquam magnam. Velit non quisquam amet voluptatem quisquam magnam. Amet est magnam non non aliquam quisquam tempora. Sit ipsum dolor aliquam etincidunt est dolorem. Ipsum quiquia quiquia dolorem non magnam dolorem tempora. Porro amet modi etincidunt. Sed dolorem modi ut dolor ut est sit."
   ]
  },
  {
   "cell_type": "markdown",
   "metadata": {
    "tags": [
     "level_advanced"
    ]
   },
   "source": [
    "## this section is advanced"
   ]
  },
  {
   "cell_type": "markdown",
   "metadata": {
    "tags": [
     "level_advanced"
    ]
   },
   "source": [
    "Sit neque adipisci voluptatem etincidunt. Labore quiquia modi quiquia. Numquam voluptatem sed dolor voluptatem tempora sit quiquia. Quiquia dolore quisquam quaerat eius. Dolorem dolor consectetur eius. Dolorem quiquia sed modi neque dolore eius aliquam. Quisquam velit ipsum sit numquam consectetur dolorem adipisci. Non dolor dolore quaerat numquam. Dolor aliquam adipisci consectetur ut aliquam quisquam est. Dolor adipisci eius amet tempora."
   ]
  },
  {
   "cell_type": "code",
   "execution_count": null,
   "metadata": {
    "tags": [
     "level_advanced"
    ]
   },
   "outputs": [],
   "source": [
    "# Est neque dolor sed dolore adipisci. Quisquam consectetur aliquam adipisci dolorem porro.\n",
    "\n",
    "print(\"hello world\")"
   ]
  },
  {
   "cell_type": "markdown",
   "metadata": {
    "tags": [
     "level_advanced"
    ]
   },
   "source": [
    "Etincidunt etincidunt est dolor velit. Sit aliquam dolorem neque. Voluptatem quiquia voluptatem quisquam etincidunt numquam est. Sit modi dolorem aliquam magnam. Velit non quisquam amet voluptatem quisquam magnam. Amet est magnam non non aliquam quisquam tempora. Sit ipsum dolor aliquam etincidunt est dolorem. Ipsum quiquia quiquia dolorem non magnam dolorem tempora. Porro amet modi etincidunt. Sed dolorem modi ut dolor ut est sit."
   ]
  },
  {
   "cell_type": "markdown",
   "metadata": {
    "tags": [
     "level_basic"
    ]
   },
   "source": [
    "## this section is basic again"
   ]
  },
  {
   "cell_type": "markdown",
   "metadata": {
    "tags": [
     "level_basic"
    ]
   },
   "source": [
    "Sit neque adipisci voluptatem etincidunt. Labore quiquia modi quiquia. Numquam voluptatem sed dolor voluptatem tempora sit quiquia. Quiquia dolore quisquam quaerat eius. Dolorem dolor consectetur eius. Dolorem quiquia sed modi neque dolore eius aliquam. Quisquam velit ipsum sit numquam consectetur dolorem adipisci. Non dolor dolore quaerat numquam. Dolor aliquam adipisci consectetur ut aliquam quisquam est. Dolor adipisci eius amet tempora."
   ]
  },
  {
   "cell_type": "code",
   "execution_count": null,
   "metadata": {
    "tags": [
     "level_basic"
    ]
   },
   "outputs": [],
   "source": [
    "# Est neque dolor sed dolore adipisci. Quisquam consectetur aliquam adipisci dolorem porro.\n",
    "\n",
    "print(\"hello world\")"
   ]
  },
  {
   "cell_type": "markdown",
   "metadata": {
    "tags": [
     "level_basic"
    ]
   },
   "source": [
    "Etincidunt etincidunt est dolor velit. Sit aliquam dolorem neque. Voluptatem quiquia voluptatem quisquam etincidunt numquam est. Sit modi dolorem aliquam magnam. Velit non quisquam amet voluptatem quisquam magnam. Amet est magnam non non aliquam quisquam tempora. Sit ipsum dolor aliquam etincidunt est dolorem. Ipsum quiquia quiquia dolorem non magnam dolorem tempora. Porro amet modi etincidunt. Sed dolorem modi ut dolor ut est sit."
   ]
  },
  {
   "cell_type": "markdown",
   "metadata": {
    "tags": []
   },
   "source": [
    "****\n",
    "****"
   ]
  },
  {
   "cell_type": "markdown",
   "metadata": {
    "tags": []
   },
   "source": [
    "# a section with just the headers painted"
   ]
  },
  {
   "cell_type": "markdown",
   "metadata": {
    "tags": [
     "level_basic"
    ]
   },
   "source": [
    "## this section is basic"
   ]
  },
  {
   "cell_type": "markdown",
   "metadata": {
    "tags": []
   },
   "source": [
    "Sit neque adipisci voluptatem etincidunt. Labore quiquia modi quiquia. Numquam voluptatem sed dolor voluptatem tempora sit quiquia. Quiquia dolore quisquam quaerat eius. Dolorem dolor consectetur eius. Dolorem quiquia sed modi neque dolore eius aliquam. Quisquam velit ipsum sit numquam consectetur dolorem adipisci. Non dolor dolore quaerat numquam. Dolor aliquam adipisci consectetur ut aliquam quisquam est. Dolor adipisci eius amet tempora."
   ]
  },
  {
   "cell_type": "code",
   "execution_count": null,
   "metadata": {
    "tags": []
   },
   "outputs": [],
   "source": [
    "# Est neque dolor sed dolore adipisci. Quisquam consectetur aliquam adipisci dolorem porro.\n",
    "\n",
    "print(\"hello world\")"
   ]
  },
  {
   "cell_type": "markdown",
   "metadata": {
    "tags": []
   },
   "source": [
    "Etincidunt etincidunt est dolor velit. Sit aliquam dolorem neque. Voluptatem quiquia voluptatem quisquam etincidunt numquam est. Sit modi dolorem aliquam magnam. Velit non quisquam amet voluptatem quisquam magnam. Amet est magnam non non aliquam quisquam tempora. Sit ipsum dolor aliquam etincidunt est dolorem. Ipsum quiquia quiquia dolorem non magnam dolorem tempora. Porro amet modi etincidunt. Sed dolorem modi ut dolor ut est sit."
   ]
  },
  {
   "cell_type": "markdown",
   "metadata": {
    "tags": [
     "level_intermediate"
    ]
   },
   "source": [
    "## this section is intemediate"
   ]
  },
  {
   "cell_type": "markdown",
   "metadata": {
    "tags": []
   },
   "source": [
    "Sit neque adipisci voluptatem etincidunt. Labore quiquia modi quiquia. Numquam voluptatem sed dolor voluptatem tempora sit quiquia. Quiquia dolore quisquam quaerat eius. Dolorem dolor consectetur eius. Dolorem quiquia sed modi neque dolore eius aliquam. Quisquam velit ipsum sit numquam consectetur dolorem adipisci. Non dolor dolore quaerat numquam. Dolor aliquam adipisci consectetur ut aliquam quisquam est. Dolor adipisci eius amet tempora."
   ]
  },
  {
   "cell_type": "code",
   "execution_count": null,
   "metadata": {
    "tags": []
   },
   "outputs": [],
   "source": [
    "# Est neque dolor sed dolore adipisci. Quisquam consectetur aliquam adipisci dolorem porro.\n",
    "\n",
    "print(\"hello world\")"
   ]
  },
  {
   "cell_type": "markdown",
   "metadata": {
    "tags": []
   },
   "source": [
    "Etincidunt etincidunt est dolor velit. Sit aliquam dolorem neque. Voluptatem quiquia voluptatem quisquam etincidunt numquam est. Sit modi dolorem aliquam magnam. Velit non quisquam amet voluptatem quisquam magnam. Amet est magnam non non aliquam quisquam tempora. Sit ipsum dolor aliquam etincidunt est dolorem. Ipsum quiquia quiquia dolorem non magnam dolorem tempora. Porro amet modi etincidunt. Sed dolorem modi ut dolor ut est sit."
   ]
  },
  {
   "cell_type": "markdown",
   "metadata": {
    "tags": [
     "level_advanced"
    ]
   },
   "source": [
    "## this section is advanced"
   ]
  },
  {
   "cell_type": "markdown",
   "metadata": {
    "tags": []
   },
   "source": [
    "Sit neque adipisci voluptatem etincidunt. Labore quiquia modi quiquia. Numquam voluptatem sed dolor voluptatem tempora sit quiquia. Quiquia dolore quisquam quaerat eius. Dolorem dolor consectetur eius. Dolorem quiquia sed modi neque dolore eius aliquam. Quisquam velit ipsum sit numquam consectetur dolorem adipisci. Non dolor dolore quaerat numquam. Dolor aliquam adipisci consectetur ut aliquam quisquam est. Dolor adipisci eius amet tempora."
   ]
  },
  {
   "cell_type": "code",
   "execution_count": null,
   "metadata": {
    "tags": []
   },
   "outputs": [],
   "source": [
    "# Est neque dolor sed dolore adipisci. Quisquam consectetur aliquam adipisci dolorem porro.\n",
    "\n",
    "print(\"hello world\")"
   ]
  },
  {
   "cell_type": "markdown",
   "metadata": {
    "tags": []
   },
   "source": [
    "Etincidunt etincidunt est dolor velit. Sit aliquam dolorem neque. Voluptatem quiquia voluptatem quisquam etincidunt numquam est. Sit modi dolorem aliquam magnam. Velit non quisquam amet voluptatem quisquam magnam. Amet est magnam non non aliquam quisquam tempora. Sit ipsum dolor aliquam etincidunt est dolorem. Ipsum quiquia quiquia dolorem non magnam dolorem tempora. Porro amet modi etincidunt. Sed dolorem modi ut dolor ut est sit."
   ]
  },
  {
   "cell_type": "markdown",
   "metadata": {
    "tags": [
     "level_basic"
    ]
   },
   "source": [
    "## this section is basic again"
   ]
  },
  {
   "cell_type": "markdown",
   "metadata": {
    "tags": []
   },
   "source": [
    "Sit neque adipisci voluptatem etincidunt. Labore quiquia modi quiquia. Numquam voluptatem sed dolor voluptatem tempora sit quiquia. Quiquia dolore quisquam quaerat eius. Dolorem dolor consectetur eius. Dolorem quiquia sed modi neque dolore eius aliquam. Quisquam velit ipsum sit numquam consectetur dolorem adipisci. Non dolor dolore quaerat numquam. Dolor aliquam adipisci consectetur ut aliquam quisquam est. Dolor adipisci eius amet tempora."
   ]
  },
  {
   "cell_type": "code",
   "execution_count": null,
   "metadata": {
    "tags": []
   },
   "outputs": [],
   "source": [
    "# Est neque dolor sed dolore adipisci. Quisquam consectetur aliquam adipisci dolorem porro.\n",
    "\n",
    "print(\"hello world\")"
   ]
  },
  {
   "cell_type": "markdown",
   "metadata": {
    "tags": []
   },
   "source": [
    "Etincidunt etincidunt est dolor velit. Sit aliquam dolorem neque. Voluptatem quiquia voluptatem quisquam etincidunt numquam est. Sit modi dolorem aliquam magnam. Velit non quisquam amet voluptatem quisquam magnam. Amet est magnam non non aliquam quisquam tempora. Sit ipsum dolor aliquam etincidunt est dolorem. Ipsum quiquia quiquia dolorem non magnam dolorem tempora. Porro amet modi etincidunt. Sed dolorem modi ut dolor ut est sit."
   ]
  },
  {
   "cell_type": "markdown",
   "metadata": {
    "tags": []
   },
   "source": [
    "# frames"
   ]
  },
  {
   "cell_type": "markdown",
   "metadata": {
    "tags": [
     "framed_cell"
    ]
   },
   "source": [
    "As an extra the extension also allows to create framed cells; this can be achieved by \n",
    "\n",
    "* adding the `framed_cell` tag to the cell's tags\n",
    "* or using the exposed keyboard shortcut named 'courselevels:toggle-frame'"
   ]
  }
 ],
 "metadata": {
  "jupytext": {
   "cell_metadata_filter": "all",
   "notebook_metadata_filter": "all,-language_info,-toc,-jupytext.text_representation.jupytext_version"
  },
  "kernelspec": {
   "display_name": "Python 3 (ipykernel)",
   "language": "python",
   "name": "python3"
  },
  "language_info": {
   "codemirror_mode": {
    "name": "ipython",
    "version": 3
   },
   "file_extension": ".py",
   "mimetype": "text/x-python",
   "name": "python",
   "nbconvert_exporter": "python",
   "pygments_lexer": "ipython3",
   "version": "3.9.6"
  },
  "toc": {
   "base_numbering": 1,
   "nav_menu": {},
   "number_sections": true,
   "sideBar": true,
   "skip_h1_title": false,
   "title_cell": "Table of Contents",
   "title_sidebar": "Contents",
   "toc_cell": false,
   "toc_position": {},
   "toc_section_display": true,
   "toc_window_display": true
  }
 },
 "nbformat": 4,
 "nbformat_minor": 4
}
